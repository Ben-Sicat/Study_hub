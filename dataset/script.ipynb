{
 "cells": [
  {
   "cell_type": "code",
   "execution_count": 1,
   "metadata": {},
   "outputs": [],
   "source": [
    "import numpy as np\n",
    "import pandas as pd"
   ]
  },
  {
   "cell_type": "code",
   "execution_count": 2,
   "metadata": {},
   "outputs": [],
   "source": [
    "\n",
    "#school\n",
    "school_choices = ['ust', 'adu', 'feu', 'tip', 'anon']\n",
    "school_weights = [0.40, 0.05, 0.35, 0.10, 0.10] \n",
    "\n",
    "#gender\n",
    "gender_choices = ['M', 'F']\n",
    "gender_weights = [0.50, 0.50]\n",
    "\n",
    "#age\n",
    "age_choices = ['20-25', '15-20', '25-30', '40-above']\n",
    "age_weights = [0.30, 0.15, 0.30, 0.25]\n",
    "\n",
    "# Number of rows  \n",
    "num_rows = 1000   "
   ]
  },
  {
   "cell_type": "code",
   "execution_count": 3,
   "metadata": {},
   "outputs": [
    {
     "name": "stdout",
     "output_type": "stream",
     "text": [
      "       Schools Gender    Age\n",
      "count     1000   1000   1000\n",
      "unique       5      2      4\n",
      "top        ust      F  25-30\n",
      "freq       427    502    311\n"
     ]
    }
   ],
   "source": [
    "# datasets\n",
    "school_data = np.random.choice(school_choices, size=num_rows, p=school_weights)\n",
    "gender_data = np.random.choice(gender_choices, size=num_rows, p=gender_weights)\n",
    "age_data = np.random.choice(age_choices, size=num_rows, p=age_weights)\n",
    "\n",
    "#dataframe\n",
    "data = pd.DataFrame({\n",
    "    'Schools': school_data,\n",
    "    'Gender': gender_data,\n",
    "    'Age': age_data\n",
    "})\n",
    "\n",
    " \n",
    "print(data.describe())"
   ]
  }
 ],
 "metadata": {
  "kernelspec": {
   "display_name": "Python 3",
   "language": "python",
   "name": "python3"
  },
  "language_info": {
   "codemirror_mode": {
    "name": "ipython",
    "version": 3
   },
   "file_extension": ".py",
   "mimetype": "text/x-python",
   "name": "python",
   "nbconvert_exporter": "python",
   "pygments_lexer": "ipython3",
   "version": "3.10.5"
  },
  "orig_nbformat": 4
 },
 "nbformat": 4,
 "nbformat_minor": 2
}
